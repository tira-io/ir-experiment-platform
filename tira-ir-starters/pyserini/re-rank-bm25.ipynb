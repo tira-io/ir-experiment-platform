{
 "cells": [
  {
   "cell_type": "markdown",
   "id": "70566b0d",
   "metadata": {},
   "source": [
    "# BM25 Re-Ranking with PySerini"
   ]
  },
  {
   "cell_type": "markdown",
   "id": "ba44b2e5",
   "metadata": {},
   "source": [
    "### Step 1: Import everything and load variables"
   ]
  },
  {
   "cell_type": "code",
   "execution_count": 1,
   "id": "056a33fe",
   "metadata": {},
   "outputs": [
    {
     "name": "stderr",
     "output_type": "stream",
     "text": [
      "/opt/conda/lib/python3.7/site-packages/tqdm/auto.py:22: TqdmWarning: IProgress not found. Please update jupyter and ipywidgets. See https://ipywidgets.readthedocs.io/en/stable/user_install.html\n",
      "  from .autonotebook import tqdm as notebook_tqdm\n"
     ]
    },
    {
     "name": "stdout",
     "output_type": "stream",
     "text": [
      "I will use a small hardcoded example located in ./sample-input.\n",
      "The output directory is /tmp/\n"
     ]
    }
   ],
   "source": [
    "from pyserini.search.lucene import LuceneSearcher\n",
    "import gzip\n",
    "import pandas as pd\n",
    "from tira.third_party_integrations import get_input_directory_and_output_directory, persist_and_normalize_run\n",
    "import json\n",
    "from tqdm import tqdm\n",
    "\n",
    "input_directory, output_directory = get_input_directory_and_output_directory('./sample-input')"
   ]
  },
  {
   "cell_type": "markdown",
   "id": "b263f23e",
   "metadata": {},
   "source": [
    "### Step 2 Load and Group the Data\n"
   ]
  },
  {
   "cell_type": "code",
   "execution_count": 2,
   "id": "64252d05",
   "metadata": {},
   "outputs": [],
   "source": [
    "data = {}\n",
    "\n",
    "with gzip.open(f'{input_directory}/rerank.jsonl.gz') as rerank:\n",
    "    for l in rerank:\n",
    "        l = json.loads(l)\n",
    "        if l['qid'] not in data:\n",
    "            data[l['qid']] = {}\n",
    "            data[l['qid']]['query'] = l['query']\n",
    "        data[l['qid']][l['docno']] = l['text']\n"
   ]
  },
  {
   "cell_type": "markdown",
   "id": "963a9a84",
   "metadata": {},
   "source": [
    "### Step 3 Re-rank Data"
   ]
  },
  {
   "cell_type": "code",
   "execution_count": 3,
   "id": "bd993ec8",
   "metadata": {
    "scrolled": true
   },
   "outputs": [
    {
     "name": "stderr",
     "output_type": "stream",
     "text": [
      "\r",
      "  0%|                                                                                                                       | 0/2 [00:00<?, ?it/s]"
     ]
    },
    {
     "name": "stdout",
     "output_type": "stream",
     "text": [
      "WARNING: sun.reflect.Reflection.getCallerClass is not supported. This will impact performance.\n",
      "2023-07-21 08:11:37,595 INFO  [main] index.IndexCollection (IndexCollection.java:250) - Setting log level to INFO\n",
      "2023-07-21 08:11:37,597 INFO  [main] index.IndexCollection (IndexCollection.java:253) - Starting indexer...\n",
      "2023-07-21 08:11:37,597 INFO  [main] index.IndexCollection (IndexCollection.java:254) - ============ Loading Parameters ============\n",
      "2023-07-21 08:11:37,597 INFO  [main] index.IndexCollection (IndexCollection.java:255) - DocumentCollection path: /tmp/anserini-re-rank/anserini-docs\n",
      "2023-07-21 08:11:37,598 INFO  [main] index.IndexCollection (IndexCollection.java:256) - CollectionClass: JsonCollection\n",
      "2023-07-21 08:11:37,598 INFO  [main] index.IndexCollection (IndexCollection.java:257) - Generator: DefaultLuceneDocumentGenerator\n",
      "2023-07-21 08:11:37,598 INFO  [main] index.IndexCollection (IndexCollection.java:258) - Threads: 1\n",
      "2023-07-21 08:11:37,598 INFO  [main] index.IndexCollection (IndexCollection.java:259) - Language: en\n",
      "2023-07-21 08:11:37,598 INFO  [main] index.IndexCollection (IndexCollection.java:260) - Stemmer: porter\n",
      "2023-07-21 08:11:37,599 INFO  [main] index.IndexCollection (IndexCollection.java:261) - Keep stopwords? false\n",
      "2023-07-21 08:11:37,599 INFO  [main] index.IndexCollection (IndexCollection.java:262) - Stopwords: null\n",
      "2023-07-21 08:11:37,599 INFO  [main] index.IndexCollection (IndexCollection.java:263) - Store positions? true\n",
      "2023-07-21 08:11:37,599 INFO  [main] index.IndexCollection (IndexCollection.java:264) - Store docvectors? true\n",
      "2023-07-21 08:11:37,599 INFO  [main] index.IndexCollection (IndexCollection.java:265) - Store document \"contents\" field? false\n",
      "2023-07-21 08:11:37,599 INFO  [main] index.IndexCollection (IndexCollection.java:266) - Store document \"raw\" field? false\n",
      "2023-07-21 08:11:37,600 INFO  [main] index.IndexCollection (IndexCollection.java:267) - Additional fields to index: []\n",
      "2023-07-21 08:11:37,600 INFO  [main] index.IndexCollection (IndexCollection.java:268) - Optimize (merge segments)? false\n",
      "2023-07-21 08:11:37,600 INFO  [main] index.IndexCollection (IndexCollection.java:269) - Whitelist: null\n",
      "2023-07-21 08:11:37,600 INFO  [main] index.IndexCollection (IndexCollection.java:270) - Pretokenized?: false\n",
      "2023-07-21 08:11:37,600 INFO  [main] index.IndexCollection (IndexCollection.java:271) - Index path: /tmp/anserini-re-rank/index\n",
      "2023-07-21 08:11:37,602 INFO  [main] index.IndexCollection (IndexCollection.java:309) - ============ Indexing Collection ============\n",
      "2023-07-21 08:11:37,858 INFO  [main] index.IndexCollection (IndexCollection.java:424) - Thread pool with 1 threads initialized.\n",
      "2023-07-21 08:11:37,858 INFO  [main] index.IndexCollection (IndexCollection.java:426) - Initializing collection in /tmp/anserini-re-rank/anserini-docs\n",
      "2023-07-21 08:11:37,860 INFO  [main] index.IndexCollection (IndexCollection.java:435) - 1 file found\n",
      "2023-07-21 08:11:37,860 INFO  [main] index.IndexCollection (IndexCollection.java:436) - Starting to index...\n",
      "2023-07-21 08:11:38,021 DEBUG [pool-2-thread-1] index.IndexCollection$LocalIndexerThread (IndexCollection.java:215) - anserini-docs/part-01.json: 5 docs added.\n",
      "2023-07-21 08:11:38,285 INFO  [main] index.IndexCollection (IndexCollection.java:492) - Indexing Complete! 5 documents indexed\n",
      "2023-07-21 08:11:38,285 INFO  [main] index.IndexCollection (IndexCollection.java:493) - ============ Final Counter Values ============\n",
      "2023-07-21 08:11:38,286 INFO  [main] index.IndexCollection (IndexCollection.java:494) - indexed:                5\n",
      "2023-07-21 08:11:38,287 INFO  [main] index.IndexCollection (IndexCollection.java:495) - unindexable:            0\n",
      "2023-07-21 08:11:38,287 INFO  [main] index.IndexCollection (IndexCollection.java:496) - empty:                  0\n",
      "2023-07-21 08:11:38,288 INFO  [main] index.IndexCollection (IndexCollection.java:497) - skipped:                0\n",
      "2023-07-21 08:11:38,288 INFO  [main] index.IndexCollection (IndexCollection.java:498) - errors:                 0\n",
      "2023-07-21 08:11:38,301 INFO  [main] index.IndexCollection (IndexCollection.java:501) - Total 5 documents indexed in 00:00:00\n"
     ]
    },
    {
     "name": "stderr",
     "output_type": "stream",
     "text": [
      "\r",
      " 50%|███████████████████████████████████████████████████████▌                                                       | 1/2 [00:03<00:03,  3.93s/it]"
     ]
    },
    {
     "name": "stdout",
     "output_type": "stream",
     "text": [
      "WARNING: sun.reflect.Reflection.getCallerClass is not supported. This will impact performance.\n",
      "2023-07-21 08:11:41,454 INFO  [main] index.IndexCollection (IndexCollection.java:250) - Setting log level to INFO\n",
      "2023-07-21 08:11:41,456 INFO  [main] index.IndexCollection (IndexCollection.java:253) - Starting indexer...\n",
      "2023-07-21 08:11:41,456 INFO  [main] index.IndexCollection (IndexCollection.java:254) - ============ Loading Parameters ============\n",
      "2023-07-21 08:11:41,456 INFO  [main] index.IndexCollection (IndexCollection.java:255) - DocumentCollection path: /tmp/anserini-re-rank/anserini-docs\n",
      "2023-07-21 08:11:41,456 INFO  [main] index.IndexCollection (IndexCollection.java:256) - CollectionClass: JsonCollection\n",
      "2023-07-21 08:11:41,456 INFO  [main] index.IndexCollection (IndexCollection.java:257) - Generator: DefaultLuceneDocumentGenerator\n",
      "2023-07-21 08:11:41,457 INFO  [main] index.IndexCollection (IndexCollection.java:258) - Threads: 1\n",
      "2023-07-21 08:11:41,457 INFO  [main] index.IndexCollection (IndexCollection.java:259) - Language: en\n",
      "2023-07-21 08:11:41,457 INFO  [main] index.IndexCollection (IndexCollection.java:260) - Stemmer: porter\n",
      "2023-07-21 08:11:41,457 INFO  [main] index.IndexCollection (IndexCollection.java:261) - Keep stopwords? false\n",
      "2023-07-21 08:11:41,457 INFO  [main] index.IndexCollection (IndexCollection.java:262) - Stopwords: null\n",
      "2023-07-21 08:11:41,458 INFO  [main] index.IndexCollection (IndexCollection.java:263) - Store positions? true\n",
      "2023-07-21 08:11:41,458 INFO  [main] index.IndexCollection (IndexCollection.java:264) - Store docvectors? true\n",
      "2023-07-21 08:11:41,458 INFO  [main] index.IndexCollection (IndexCollection.java:265) - Store document \"contents\" field? false\n",
      "2023-07-21 08:11:41,458 INFO  [main] index.IndexCollection (IndexCollection.java:266) - Store document \"raw\" field? false\n",
      "2023-07-21 08:11:41,459 INFO  [main] index.IndexCollection (IndexCollection.java:267) - Additional fields to index: []\n",
      "2023-07-21 08:11:41,459 INFO  [main] index.IndexCollection (IndexCollection.java:268) - Optimize (merge segments)? false\n",
      "2023-07-21 08:11:41,459 INFO  [main] index.IndexCollection (IndexCollection.java:269) - Whitelist: null\n",
      "2023-07-21 08:11:41,459 INFO  [main] index.IndexCollection (IndexCollection.java:270) - Pretokenized?: false\n",
      "2023-07-21 08:11:41,459 INFO  [main] index.IndexCollection (IndexCollection.java:271) - Index path: /tmp/anserini-re-rank/index\n",
      "2023-07-21 08:11:41,461 INFO  [main] index.IndexCollection (IndexCollection.java:309) - ============ Indexing Collection ============\n",
      "2023-07-21 08:11:41,709 INFO  [main] index.IndexCollection (IndexCollection.java:424) - Thread pool with 1 threads initialized.\n",
      "2023-07-21 08:11:41,709 INFO  [main] index.IndexCollection (IndexCollection.java:426) - Initializing collection in /tmp/anserini-re-rank/anserini-docs\n",
      "2023-07-21 08:11:41,710 INFO  [main] index.IndexCollection (IndexCollection.java:435) - 1 file found\n",
      "2023-07-21 08:11:41,711 INFO  [main] index.IndexCollection (IndexCollection.java:436) - Starting to index...\n",
      "2023-07-21 08:11:41,883 DEBUG [pool-2-thread-1] index.IndexCollection$LocalIndexerThread (IndexCollection.java:215) - anserini-docs/part-01.json: 5 docs added.\n",
      "2023-07-21 08:11:42,150 INFO  [main] index.IndexCollection (IndexCollection.java:492) - Indexing Complete! 5 documents indexed\n",
      "2023-07-21 08:11:42,151 INFO  [main] index.IndexCollection (IndexCollection.java:493) - ============ Final Counter Values ============\n",
      "2023-07-21 08:11:42,151 INFO  [main] index.IndexCollection (IndexCollection.java:494) - indexed:                5\n",
      "2023-07-21 08:11:42,151 INFO  [main] index.IndexCollection (IndexCollection.java:495) - unindexable:            0\n",
      "2023-07-21 08:11:42,151 INFO  [main] index.IndexCollection (IndexCollection.java:496) - empty:                  0\n",
      "2023-07-21 08:11:42,152 INFO  [main] index.IndexCollection (IndexCollection.java:497) - skipped:                0\n",
      "2023-07-21 08:11:42,152 INFO  [main] index.IndexCollection (IndexCollection.java:498) - errors:                 0\n",
      "2023-07-21 08:11:42,156 INFO  [main] index.IndexCollection (IndexCollection.java:501) - Total 5 documents indexed in 00:00:00\n"
     ]
    },
    {
     "name": "stderr",
     "output_type": "stream",
     "text": [
      "100%|███████████████████████████████████████████████████████████████████████████████████████████████████████████████| 2/2 [00:07<00:00,  3.79s/it]\n"
     ]
    }
   ],
   "source": [
    "run = []\n",
    "\n",
    "for qid in tqdm(data):\n",
    "    !rm -Rf /tmp/anserini-re-rank\n",
    "    !mkdir -p /tmp/anserini-re-rank/anserini-docs\n",
    "    with open(f'/tmp/anserini-re-rank/anserini-docs/part-01.json', 'w') as ans:\n",
    "        for docno, text in data[qid].items():\n",
    "            ans.write(json.dumps({\"id\": docno, \"contents\":text}) + '\\n')\n",
    "\n",
    "    !python -m pyserini.index.lucene \\\n",
    "        --collection JsonCollection \\\n",
    "        --input /tmp/anserini-re-rank/anserini-docs \\\n",
    "        --index /tmp/anserini-re-rank/index \\\n",
    "        --generator DefaultLuceneDocumentGenerator \\\n",
    "        --threads 1 \\\n",
    "        --storePositions --storeDocvectors\n",
    "\n",
    "    searcher = LuceneSearcher('/tmp/anserini-re-rank/index')\n",
    "    searcher.set_bm25()\n",
    "    scores = {}\n",
    "    for doc in searcher.search(data[qid]['query'], 1000):\n",
    "        scores[doc.docid] = doc.score\n",
    "\n",
    "    min_score = min(scores.values()) -1\n",
    "    for doc in data[qid].keys():\n",
    "        run += [{\"qid\": qid, \"score\": scores.get(doc, min_score), \"docno\": doc}]\n",
    "run = pd.DataFrame(run)"
   ]
  },
  {
   "cell_type": "markdown",
   "id": "4d828d78",
   "metadata": {},
   "source": [
    "### Step 4: Persist Run"
   ]
  },
  {
   "cell_type": "code",
   "execution_count": 4,
   "id": "6524fc70",
   "metadata": {},
   "outputs": [],
   "source": [
    "persist_and_normalize_run(run, output_file=output_directory, system_name='BM25', depth=1000)"
   ]
  }
 ],
 "metadata": {
  "kernelspec": {
   "display_name": "Python 3 (ipykernel)",
   "language": "python",
   "name": "python3"
  },
  "language_info": {
   "codemirror_mode": {
    "name": "ipython",
    "version": 3
   },
   "file_extension": ".py",
   "mimetype": "text/x-python",
   "name": "python",
   "nbconvert_exporter": "python",
   "pygments_lexer": "ipython3",
   "version": "3.7.13"
  }
 },
 "nbformat": 4,
 "nbformat_minor": 5
}

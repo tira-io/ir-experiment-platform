{
 "cells": [
  {
   "cell_type": "markdown",
   "id": "8c3da078-f7fc-4d37-904c-532bb26d4321",
   "metadata": {},
   "source": [
    "# This is my cool Pipeline"
   ]
  },
  {
   "cell_type": "markdown",
   "id": "66fd2911-c97a-4f91-af28-8c7e381573b6",
   "metadata": {},
   "source": [
    "### Step 1: Import everything and load variables"
   ]
  },
  {
   "cell_type": "code",
   "execution_count": 1,
   "id": "7ae3c54f-aba1-45bf-b074-e78a99f6405f",
   "metadata": {},
   "outputs": [
    {
     "name": "stdout",
     "output_type": "stream",
     "text": [
      "Start PyTerrier with version=5.7, helper_version=0.0.7, no_download=True\n"
     ]
    },
    {
     "name": "stderr",
     "output_type": "stream",
     "text": [
      "PyTerrier 0.9.2 has loaded Terrier 5.7 (built by craigm on 2022-11-10 18:30) and terrier-helper 0.0.7\n",
      "\n",
      "No etc/terrier.properties, using terrier.default.properties for bootstrap configuration.\n"
     ]
    },
    {
     "name": "stdout",
     "output_type": "stream",
     "text": [
      "I will use a small hardcoded example located in ./sample-input-full-rank.\n",
      "The output directory is /tmp/\n"
     ]
    }
   ],
   "source": [
    "import pyterrier as pt\n",
    "import pandas as pd\n",
    "from tira.third_party_integrations import ensure_pyterrier_is_loaded, get_input_directory_and_output_directory, persist_and_normalize_run\n",
    "import json\n",
    "from tqdm import tqdm\n",
    "\n",
    "ensure_pyterrier_is_loaded()\n",
    "input_directory, output_directory = get_input_directory_and_output_directory('./sample-input-full-rank')\n"
   ]
  },
  {
   "cell_type": "markdown",
   "id": "8c563b0e-97ac-44a2-ba2f-18858f1506bb",
   "metadata": {},
   "source": [
    "### Step 2: Load the Data"
   ]
  },
  {
   "cell_type": "code",
   "execution_count": 2,
   "id": "e35230af-66ec-4607-a97b-127bd890fa59",
   "metadata": {},
   "outputs": [
    {
     "name": "stdout",
     "output_type": "stream",
     "text": [
      "Step 2: Load the data.\n"
     ]
    }
   ],
   "source": [
    "print('Step 2: Load the data.')\n",
    "\n",
    "queries = pt.io.read_topics(input_directory + '/queries.xml', format='trecxml')\n",
    "\n",
    "documents = (json.loads(i) for i in open(input_directory + '/documents.jsonl', 'r'))\n"
   ]
  },
  {
   "cell_type": "markdown",
   "id": "72655916-07fe-4c58-82c1-2f9f93381e7f",
   "metadata": {},
   "source": [
    "### Step 3: Create the Index"
   ]
  },
  {
   "cell_type": "code",
   "execution_count": 3,
   "id": "05ce062d-25e4-4c61-b6ce-9431b9f2bbd4",
   "metadata": {},
   "outputs": [
    {
     "name": "stdout",
     "output_type": "stream",
     "text": [
      "Step 3: Create the Index.\n"
     ]
    },
    {
     "name": "stderr",
     "output_type": "stream",
     "text": [
      "5it [00:00, 53.63it/s]\n"
     ]
    }
   ],
   "source": [
    "print('Step 3: Create the Index.')\n",
    "\n",
    "!rm -Rf ./index\n",
    "iter_indexer = pt.IterDictIndexer(\"./index\", meta={'docno' : 100})\n",
    "index_ref = iter_indexer.index(tqdm(documents))"
   ]
  },
  {
   "cell_type": "markdown",
   "id": "806c4638-ccee-4470-a74c-2a85d9ee2cfc",
   "metadata": {},
   "source": [
    "### Step 4: Create Run"
   ]
  },
  {
   "cell_type": "code",
   "execution_count": 4,
   "id": "a191f396-e896-4792-afaf-574e452640f5",
   "metadata": {},
   "outputs": [
    {
     "name": "stdout",
     "output_type": "stream",
     "text": [
      "Step 4: Create Run.\n"
     ]
    },
    {
     "name": "stderr",
     "output_type": "stream",
     "text": [
      "BR(BM25): 100%|██████████████████████████████████████████████████████████████████████████████████████████████████████| 2/2 [00:00<00:00, 18.71q/s]\n"
     ]
    }
   ],
   "source": [
    "print('Step 4: Create Run.')\n",
    "run = pt.BatchRetrieve(index_ref, wmodel=\"BM25\", verbose=True)(queries)"
   ]
  },
  {
   "cell_type": "code",
   "execution_count": 5,
   "id": "c0e07fca-de98-4de2-b6a7-abfd516c652c",
   "metadata": {},
   "outputs": [
    {
     "data": {
      "text/html": [
       "<div>\n",
       "<style scoped>\n",
       "    .dataframe tbody tr th:only-of-type {\n",
       "        vertical-align: middle;\n",
       "    }\n",
       "\n",
       "    .dataframe tbody tr th {\n",
       "        vertical-align: top;\n",
       "    }\n",
       "\n",
       "    .dataframe thead th {\n",
       "        text-align: right;\n",
       "    }\n",
       "</style>\n",
       "<table border=\"1\" class=\"dataframe\">\n",
       "  <thead>\n",
       "    <tr style=\"text-align: right;\">\n",
       "      <th></th>\n",
       "      <th>qid</th>\n",
       "      <th>docid</th>\n",
       "      <th>docno</th>\n",
       "      <th>rank</th>\n",
       "      <th>score</th>\n",
       "      <th>query</th>\n",
       "    </tr>\n",
       "  </thead>\n",
       "  <tbody>\n",
       "    <tr>\n",
       "      <th>0</th>\n",
       "      <td>1</td>\n",
       "      <td>2</td>\n",
       "      <td>pangram-03</td>\n",
       "      <td>0</td>\n",
       "      <td>-0.491918</td>\n",
       "      <td>fox jumps above animal</td>\n",
       "    </tr>\n",
       "    <tr>\n",
       "      <th>1</th>\n",
       "      <td>1</td>\n",
       "      <td>0</td>\n",
       "      <td>pangram-01</td>\n",
       "      <td>1</td>\n",
       "      <td>-0.527167</td>\n",
       "      <td>fox jumps above animal</td>\n",
       "    </tr>\n",
       "    <tr>\n",
       "      <th>2</th>\n",
       "      <td>1</td>\n",
       "      <td>3</td>\n",
       "      <td>pangram-04</td>\n",
       "      <td>2</td>\n",
       "      <td>-0.983837</td>\n",
       "      <td>fox jumps above animal</td>\n",
       "    </tr>\n",
       "    <tr>\n",
       "      <th>3</th>\n",
       "      <td>1</td>\n",
       "      <td>1</td>\n",
       "      <td>pangram-02</td>\n",
       "      <td>3</td>\n",
       "      <td>-1.054335</td>\n",
       "      <td>fox jumps above animal</td>\n",
       "    </tr>\n",
       "    <tr>\n",
       "      <th>4</th>\n",
       "      <td>2</td>\n",
       "      <td>4</td>\n",
       "      <td>pangram-05</td>\n",
       "      <td>0</td>\n",
       "      <td>-0.409729</td>\n",
       "      <td>multiple animals including a zebra</td>\n",
       "    </tr>\n",
       "    <tr>\n",
       "      <th>5</th>\n",
       "      <td>2</td>\n",
       "      <td>2</td>\n",
       "      <td>pangram-03</td>\n",
       "      <td>1</td>\n",
       "      <td>-0.491918</td>\n",
       "      <td>multiple animals including a zebra</td>\n",
       "    </tr>\n",
       "    <tr>\n",
       "      <th>6</th>\n",
       "      <td>2</td>\n",
       "      <td>0</td>\n",
       "      <td>pangram-01</td>\n",
       "      <td>2</td>\n",
       "      <td>-0.527167</td>\n",
       "      <td>multiple animals including a zebra</td>\n",
       "    </tr>\n",
       "  </tbody>\n",
       "</table>\n",
       "</div>"
      ],
      "text/plain": [
       "  qid  docid       docno  rank     score                                query\n",
       "0   1      2  pangram-03     0 -0.491918               fox jumps above animal\n",
       "1   1      0  pangram-01     1 -0.527167               fox jumps above animal\n",
       "2   1      3  pangram-04     2 -0.983837               fox jumps above animal\n",
       "3   1      1  pangram-02     3 -1.054335               fox jumps above animal\n",
       "4   2      4  pangram-05     0 -0.409729   multiple animals including a zebra\n",
       "5   2      2  pangram-03     1 -0.491918   multiple animals including a zebra\n",
       "6   2      0  pangram-01     2 -0.527167   multiple animals including a zebra"
      ]
     },
     "execution_count": 5,
     "metadata": {},
     "output_type": "execute_result"
    }
   ],
   "source": [
    "run"
   ]
  },
  {
   "cell_type": "markdown",
   "id": "28c40a2e-0f96-4ae8-aa5e-55a5e7ef9dee",
   "metadata": {},
   "source": [
    "### Step 5: Persist Run"
   ]
  },
  {
   "cell_type": "code",
   "execution_count": 6,
   "id": "12e5bb42-ed1f-41ba-b7a5-cb43ebca96f6",
   "metadata": {},
   "outputs": [
    {
     "name": "stdout",
     "output_type": "stream",
     "text": [
      "Step 5: Persist Run.\n"
     ]
    }
   ],
   "source": [
    "print('Step 5: Persist Run.')\n",
    "\n",
    "persist_and_normalize_run(run, output_file=output_directory, system_name='BM25', depth=1000)"
   ]
  }
 ],
 "metadata": {
  "kernelspec": {
   "display_name": "Python 3 (ipykernel)",
   "language": "python",
   "name": "python3"
  },
  "language_info": {
   "codemirror_mode": {
    "name": "ipython",
    "version": 3
   },
   "file_extension": ".py",
   "mimetype": "text/x-python",
   "name": "python",
   "nbconvert_exporter": "python",
   "pygments_lexer": "ipython3",
   "version": "3.10.6"
  }
 },
 "nbformat": 4,
 "nbformat_minor": 5
}
